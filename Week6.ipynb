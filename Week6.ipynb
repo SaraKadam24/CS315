{
  "nbformat": 4,
  "nbformat_minor": 0,
  "metadata": {
    "colab": {
      "provenance": []
    },
    "kernelspec": {
      "name": "python3",
      "display_name": "Python 3"
    },
    "language_info": {
      "name": "python"
    }
  },
  "cells": [
    {
      "cell_type": "code",
      "execution_count": 1,
      "metadata": {
        "colab": {
          "base_uri": "https://localhost:8080/"
        },
        "id": "397UKQrQ_4Q8",
        "outputId": "56586891-180f-486f-a17a-a1bae7bceba4"
      },
      "outputs": [
        {
          "output_type": "stream",
          "name": "stdout",
          "text": [
            "n=100, time=0.00010s\n",
            "n=500, time=0.00133s\n",
            "n=1000, time=0.00071s\n",
            "n=5000, time=0.00243s\n",
            "n=10000, time=0.00647s\n",
            "n=20000, time=0.01323s\n"
          ]
        }
      ],
      "source": [
        "import random, time\n",
        "\n",
        "def quickselect(A, i):\n",
        "    if len(A) == 1:\n",
        "        return A[0]\n",
        "    pivot = random.choice(A)\n",
        "    lows = [x for x in A if x < pivot]\n",
        "    highs = [x for x in A if x > pivot]\n",
        "    pivots = [x for x in A if x == pivot]\n",
        "    if i <= len(lows):\n",
        "        return quickselect(lows, i)\n",
        "    elif i <= len(lows) + len(pivots):\n",
        "        return pivot\n",
        "    else:\n",
        "        return quickselect(highs, i - len(lows) - len(pivots))\n",
        "\n",
        "for n in [100, 500, 1000, 5000, 10000, 20000]:\n",
        "    A = list(range(n))\n",
        "    random.shuffle(A)\n",
        "    start = time.time()\n",
        "    quickselect(A, n // 2)\n",
        "    print(f\"n={n}, time={time.time() - start:.5f}s\")\n",
        "\n",
        "# Running time grows linearly with input size\n",
        "# Worst-case is not observed with random pivots"
      ]
    }
  ]
}